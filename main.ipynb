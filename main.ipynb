{
 "cells": [
  {
   "cell_type": "code",
   "execution_count": 27,
   "metadata": {},
   "outputs": [],
   "source": [
    "import numpy as np \n",
    "import matplotlib.pyplot as plt\n",
    "import os\n",
    "import math\n",
    "import shutil\n",
    "import glob"
   ]
  },
  {
   "cell_type": "code",
   "execution_count": 38,
   "metadata": {},
   "outputs": [],
   "source": [
    "root_dir=\"C:\\College stuff'\\Sem4\\Mini Project\\Main2\"\n",
    "number_of_images={}\n",
    "\n",
    "for dir in os.listdir(root_dir):\n",
    "    number_of_images[dir]=len(os.listdir(os.path.join(root_dir,dir)))"
   ]
  },
  {
   "cell_type": "code",
   "execution_count": 39,
   "metadata": {},
   "outputs": [
    {
     "data": {
      "text/plain": [
       "{'Healthy': 3494, 'Tumor': 6517}"
      ]
     },
     "execution_count": 39,
     "metadata": {},
     "output_type": "execute_result"
    }
   ],
   "source": [
    "number_of_images"
   ]
  },
  {
   "attachments": {},
   "cell_type": "markdown",
   "metadata": {},
   "source": [
    "We will split the data \n",
    "70% for training \n",
    "15% for validation\n",
    "15% for testing "
   ]
  },
  {
   "attachments": {},
   "cell_type": "markdown",
   "metadata": {},
   "source": [
    "We will create a training folder"
   ]
  },
  {
   "cell_type": "code",
   "execution_count": 40,
   "metadata": {},
   "outputs": [],
   "source": [
    "def datafolder(path,split):\n",
    "    if not os.path.exists(\"./\"+path):\n",
    "      os.mkdir(\"./\"+path)\n",
    "\n",
    "      for dir in os.listdir(root_dir):\n",
    "        os.makedirs(\"./\"+path+\"/\"+dir)\n",
    "\n",
    "        for img in np.random.choice(a=os.listdir(os.path.join(root_dir,dir)),size=(math.floor(split*number_of_images[dir])-2),replace=False):\n",
    "            o=os.path.join(root_dir,dir,img)\n",
    "            d=os.path.join(\"./\"+path,dir)\n",
    "            shutil.copy(o,d)\n",
    "            os.remove(o)  \n",
    "    else:\n",
    "         print(\"the folder exists\")\n",
    "\n"
   ]
  },
  {
   "cell_type": "code",
   "execution_count": 41,
   "metadata": {},
   "outputs": [],
   "source": [
    "datafolder(\"Train\",0.7)"
   ]
  },
  {
   "cell_type": "code",
   "execution_count": 42,
   "metadata": {},
   "outputs": [],
   "source": [
    "datafolder(\"Test\",0.15)\n"
   ]
  },
  {
   "cell_type": "code",
   "execution_count": 43,
   "metadata": {},
   "outputs": [],
   "source": [
    "datafolder(\"Val\",0.15)"
   ]
  },
  {
   "attachments": {},
   "cell_type": "markdown",
   "metadata": {},
   "source": [
    "Model Building"
   ]
  },
  {
   "cell_type": "code",
   "execution_count": 44,
   "metadata": {},
   "outputs": [],
   "source": [
    "from keras.layers import Conv2D,MaxPool2D,Dropout,Flatten,Dense,BatchNormalization,GlobalAveragePooling2D\n",
    "from keras.models import Sequential\n",
    "from tensorflow.keras.utils import load_img\n",
    "import keras\n",
    "from keras.preprocessing.image import ImageDataGenerator\n"
   ]
  },
  {
   "attachments": {},
   "cell_type": "markdown",
   "metadata": {},
   "source": [
    "CNN Model"
   ]
  },
  {
   "cell_type": "code",
   "execution_count": 45,
   "metadata": {},
   "outputs": [
    {
     "name": "stdout",
     "output_type": "stream",
     "text": [
      "Model: \"sequential\"\n",
      "_________________________________________________________________\n",
      " Layer (type)                Output Shape              Param #   \n",
      "=================================================================\n",
      " conv2d (Conv2D)             (None, 222, 222, 16)      448       \n",
      "                                                                 \n",
      " conv2d_1 (Conv2D)           (None, 220, 220, 366)     53070     \n",
      "                                                                 \n",
      " max_pooling2d (MaxPooling2D  (None, 110, 110, 366)    0         \n",
      " )                                                               \n",
      "                                                                 \n",
      " conv2d_2 (Conv2D)           (None, 108, 108, 64)      210880    \n",
      "                                                                 \n",
      " max_pooling2d_1 (MaxPooling  (None, 54, 54, 64)       0         \n",
      " 2D)                                                             \n",
      "                                                                 \n",
      " conv2d_3 (Conv2D)           (None, 52, 52, 128)       73856     \n",
      "                                                                 \n",
      " max_pooling2d_2 (MaxPooling  (None, 26, 26, 128)      0         \n",
      " 2D)                                                             \n",
      "                                                                 \n",
      " dropout (Dropout)           (None, 26, 26, 128)       0         \n",
      "                                                                 \n",
      " flatten (Flatten)           (None, 86528)             0         \n",
      "                                                                 \n",
      " dense (Dense)               (None, 64)                5537856   \n",
      "                                                                 \n",
      " dropout_1 (Dropout)         (None, 64)                0         \n",
      "                                                                 \n",
      " dense_1 (Dense)             (None, 1)                 65        \n",
      "                                                                 \n",
      "=================================================================\n",
      "Total params: 5,876,175\n",
      "Trainable params: 5,876,175\n",
      "Non-trainable params: 0\n",
      "_________________________________________________________________\n"
     ]
    }
   ],
   "source": [
    "model=Sequential()\n",
    "\n",
    "model.add(Conv2D(filters=16, kernel_size=(3,3), activation='relu', input_shape=(224,224,3)))\n",
    "\n",
    "model.add(Conv2D(filters=366, kernel_size=(3,3), activation='relu', input_shape=(224,224,3)))\n",
    "model.add(MaxPool2D(pool_size=(2,2)))\n",
    "\n",
    "model.add(Conv2D(filters=64, kernel_size=(3,3), activation='relu', input_shape=(224,224,3)))\n",
    "model.add(MaxPool2D(pool_size=(2,2)))\n",
    "\n",
    "model.add(Conv2D(filters=128, kernel_size=(3,3), activation='relu', input_shape=(224,224,3)))\n",
    "model.add(MaxPool2D(pool_size=(2,2)))\n",
    "\n",
    "model.add(Dropout(rate=0.25))\n",
    "\n",
    "model.add(Flatten())\n",
    "model.add(Dense(units=64,activation='relu'))\n",
    "model.add(Dropout(rate=0.25))\n",
    "model.add(Dense(units=1,activation='relu'))\n",
    "\n",
    "model.summary()\n",
    "\n",
    "\n"
   ]
  },
  {
   "cell_type": "code",
   "execution_count": 47,
   "metadata": {},
   "outputs": [],
   "source": [
    "model.compile(optimizer='adam', loss=keras.losses.binary_crossentropy,metrics=['accuracy'])"
   ]
  },
  {
   "attachments": {},
   "cell_type": "markdown",
   "metadata": {},
   "source": [
    "Preparing our data generator"
   ]
  },
  {
   "cell_type": "code",
   "execution_count": 48,
   "metadata": {},
   "outputs": [],
   "source": [
    "def preprocessingimages(path):\n",
    "    image_data=ImageDataGenerator(zoom_range=0.2,shear_range=0.2,rescale=1/255, horizontal_flip=True)\n",
    "    image=image_data.flow_from_directory(directory=path, target_size=(224,224), batch_size=32, class_mode='binary')\n",
    "    return image"
   ]
  },
  {
   "cell_type": "code",
   "execution_count": 49,
   "metadata": {},
   "outputs": [
    {
     "name": "stdout",
     "output_type": "stream",
     "text": [
      "Found 7002 images belonging to 2 classes.\n"
     ]
    }
   ],
   "source": [
    "path=\"C:\\College stuff'\\Sem4\\Mini Project\\Train\"\n",
    "train_data=preprocessingimages(path)"
   ]
  },
  {
   "cell_type": "code",
   "execution_count": 50,
   "metadata": {},
   "outputs": [],
   "source": [
    "def preprocessingimages2(path):\n",
    "    image_data=ImageDataGenerator(rescale=1/255)\n",
    "    image=image_data.flow_from_directory(directory=path, target_size=(224,224), batch_size=32, class_mode='binary')\n",
    "    return image"
   ]
  },
  {
   "cell_type": "code",
   "execution_count": 51,
   "metadata": {},
   "outputs": [
    {
     "name": "stdout",
     "output_type": "stream",
     "text": [
      "Found 1497 images belonging to 2 classes.\n"
     ]
    }
   ],
   "source": [
    "path=\"C:\\College stuff'\\Sem4\\Mini Project\\Test\"\n",
    "test_data=preprocessingimages2(path)"
   ]
  },
  {
   "cell_type": "code",
   "execution_count": 52,
   "metadata": {},
   "outputs": [
    {
     "name": "stdout",
     "output_type": "stream",
     "text": [
      "Found 1497 images belonging to 2 classes.\n"
     ]
    }
   ],
   "source": [
    "path=\"C:\\College stuff'\\Sem4\\Mini Project\\Val\"\n",
    "val_data=preprocessingimages2(path)"
   ]
  },
  {
   "attachments": {},
   "cell_type": "markdown",
   "metadata": {},
   "source": [
    "Early Stopping and model checkpoint\n"
   ]
  },
  {
   "cell_type": "code",
   "execution_count": 53,
   "metadata": {},
   "outputs": [],
   "source": [
    "from keras.callbacks import ModelCheckpoint, EarlyStopping\n",
    "\n",
    "# Early Stopping\n",
    "ec=EarlyStopping(monitor=\"val_accuracy\", min_delta=0.01, patience=3, verbose=1, mode='auto')\n",
    "\n",
    "#model checpoint\n",
    "mc=ModelCheckpoint(monitor=\"val_accuracy\", filepath=\"./bestmodel.h5\", verbose=1, save_best_only=True, mode='auto')\n",
    "\n",
    "cd=[ec,mc]"
   ]
  },
  {
   "attachments": {},
   "cell_type": "markdown",
   "metadata": {},
   "source": [
    "Model Training"
   ]
  },
  {
   "cell_type": "code",
   "execution_count": 54,
   "metadata": {},
   "outputs": [
    {
     "name": "stderr",
     "output_type": "stream",
     "text": [
      "C:\\Users\\Paras Shirish Vaidya\\AppData\\Local\\Temp\\ipykernel_336\\2745458043.py:1: UserWarning: `Model.fit_generator` is deprecated and will be removed in a future version. Please use `Model.fit`, which supports generators.\n",
      "  hs=model.fit_generator(generator=train_data,steps_per_epoch=8,epochs=30,verbose=1, validation_data=val_data, validation_steps=16, callbacks=cd)\n"
     ]
    },
    {
     "name": "stdout",
     "output_type": "stream",
     "text": [
      "Epoch 1/30\n",
      "8/8 [==============================] - ETA: 0s - loss: 6.3917 - accuracy: 0.5625 \n",
      "Epoch 1: val_accuracy improved from -inf to 0.65430, saving model to .\\bestmodel.h5\n",
      "8/8 [==============================] - 206s 25s/step - loss: 6.3917 - accuracy: 0.5625 - val_loss: 5.2717 - val_accuracy: 0.6543\n",
      "Epoch 2/30\n",
      "8/8 [==============================] - ETA: 0s - loss: 5.7185 - accuracy: 0.6250 \n",
      "Epoch 2: val_accuracy improved from 0.65430 to 0.65820, saving model to .\\bestmodel.h5\n",
      "8/8 [==============================] - 185s 23s/step - loss: 5.7185 - accuracy: 0.6250 - val_loss: 5.2121 - val_accuracy: 0.6582\n",
      "Epoch 3/30\n",
      "8/8 [==============================] - ETA: 0s - loss: 5.0037 - accuracy: 0.6719 \n",
      "Epoch 3: val_accuracy did not improve from 0.65820\n",
      "8/8 [==============================] - 178s 23s/step - loss: 5.0037 - accuracy: 0.6719 - val_loss: 5.2717 - val_accuracy: 0.6543\n",
      "Epoch 4/30\n",
      "1/8 [==>...........................] - ETA: 2:01 - loss: 5.7185 - accuracy: 0.6250"
     ]
    }
   ],
   "source": [
    "hs=model.fit_generator(generator=train_data,steps_per_epoch=8,epochs=30,verbose=1, validation_data=val_data, validation_steps=16, callbacks=cd)"
   ]
  }
 ],
 "metadata": {
  "kernelspec": {
   "display_name": "Python 3",
   "language": "python",
   "name": "python3"
  },
  "language_info": {
   "codemirror_mode": {
    "name": "ipython",
    "version": 3
   },
   "file_extension": ".py",
   "mimetype": "text/x-python",
   "name": "python",
   "nbconvert_exporter": "python",
   "pygments_lexer": "ipython3",
   "version": "3.10.0"
  },
  "orig_nbformat": 4,
  "vscode": {
   "interpreter": {
    "hash": "b0040b5fb4b8c2ad7d118b62234a032712a52a071f5834542d56ab2eefec5816"
   }
  }
 },
 "nbformat": 4,
 "nbformat_minor": 2
}
